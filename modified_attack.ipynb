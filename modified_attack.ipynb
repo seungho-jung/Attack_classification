{
 "cells": [
  {
   "cell_type": "code",
   "execution_count": 2,
   "id": "cb19c977",
   "metadata": {},
   "outputs": [],
   "source": [
    "import pandas as pd\n",
    "for j in range(0,16):\n",
    "    foldername=\"./modified_attack/byte\"+str(j)\n",
    "    corrname=foldername+\"/corr_\"+str(j)+\".txt\"\n",
    "    f = open(corrname, 'w')\n",
    "    for i in range(0, 256):\n",
    "        filename =foldername+\"/key\"+str(i)+\".txt\"\n",
    "        df_1 = pd.read_table(filename ,sep=' ', header=None, names=['sample', 'mem_request'])\n",
    "        x = df_1[['mem_request']]\n",
    "        x = x.head(100000)\n",
    "        df_2 = pd.read_table('./modified_attack/output_tot_cycle_ghost.txt',sep=' ', header=None, names=['sample', 'cycle'])\n",
    "        y = df_2[['cycle']]\n",
    "        y = y.head(100000)\n",
    "        df = pd.concat([x,y],axis =1)\n",
    "        x= df['mem_request']\n",
    "        y= df['cycle']\n",
    "        z= x.corr(y)\n",
    "        data = \"%f\\n\" % z\n",
    "        f.write(data)\n",
    "    f.close()"
   ]
  },
  {
   "cell_type": "code",
   "execution_count": null,
   "id": "64aa1eb8",
   "metadata": {},
   "outputs": [],
   "source": []
  }
 ],
 "metadata": {
  "kernelspec": {
   "display_name": "Python 3 (ipykernel)",
   "language": "python",
   "name": "python3"
  },
  "language_info": {
   "codemirror_mode": {
    "name": "ipython",
    "version": 3
   },
   "file_extension": ".py",
   "mimetype": "text/x-python",
   "name": "python",
   "nbconvert_exporter": "python",
   "pygments_lexer": "ipython3",
   "version": "3.9.6"
  }
 },
 "nbformat": 4,
 "nbformat_minor": 5
}
