{
 "cells": [
  {
   "cell_type": "code",
   "execution_count": 13,
   "id": "63c0871e",
   "metadata": {},
   "outputs": [],
   "source": [
    "import pandas as pd\n",
    "f = open(\"Downloads/key0/corr_0.txt\", 'w')"
   ]
  },
  {
   "cell_type": "code",
   "execution_count": 14,
   "id": "cb19c977",
   "metadata": {},
   "outputs": [],
   "source": [
    "for i in range(0, 256):\n",
    "    filename =\"Downloads/key0/data_\"+str(i)+\".txt\"\n",
    "    df_1 = pd.read_table(filename ,sep=' ', header=None, names=['sample', 'mem_request'])\n",
    "    x = df_1[['mem_request']]\n",
    "    x = x.head(20000)\n",
    "    df_2 = pd.read_table('Downloads/key0/output_tot_cycle_20000.txt',sep=' ', header=None, names=['sample', 'cycle'])\n",
    "    y = df_2[['cycle']]\n",
    "    df = pd.concat([x,y],axis =1)\n",
    "    x= df['mem_request']\n",
    "    y= df['cycle']\n",
    "    z= x.corr(y)\n",
    "    data = \"%f\\n\" % z\n",
    "    f.write(data)"
   ]
  },
  {
   "cell_type": "code",
   "execution_count": 15,
   "id": "bfcab82c",
   "metadata": {},
   "outputs": [],
   "source": [
    "f.close()"
   ]
  },
  {
   "cell_type": "code",
   "execution_count": null,
   "id": "2f221801",
   "metadata": {},
   "outputs": [],
   "source": []
  }
 ],
 "metadata": {
  "kernelspec": {
   "display_name": "Python 3 (ipykernel)",
   "language": "python",
   "name": "python3"
  },
  "language_info": {
   "codemirror_mode": {
    "name": "ipython",
    "version": 3
   },
   "file_extension": ".py",
   "mimetype": "text/x-python",
   "name": "python",
   "nbconvert_exporter": "python",
   "pygments_lexer": "ipython3",
   "version": "3.9.6"
  }
 },
 "nbformat": 4,
 "nbformat_minor": 5
}
